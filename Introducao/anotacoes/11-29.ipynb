{
 "cells": [
  {
   "cell_type": "markdown",
   "id": "f5c5a1af",
   "metadata": {},
   "source": [
    "pass pra dizer que n vai fzr absolutamente dentro\n",
    "\n",
    "meuprimeiroobjeto é referencia, recebe uma"
   ]
  },
  {
   "cell_type": "code",
   "execution_count": 1,
   "id": "fb67470a",
   "metadata": {},
   "outputs": [],
   "source": [
    "class MinhaPrimeiraClasse:\n",
    "    pass"
   ]
  },
  {
   "cell_type": "markdown",
   "id": "87dff597",
   "metadata": {},
   "source": [
    "se vc n declara o construtor python ja tem um por default\n",
    "\n",
    "python permite vc criar atributos dps da criaçao do objeto, mas esses atributos estarao relacionados só a esse objeto\n",
    "\n",
    "objeto de qlqr classe, qnd vc cria, vem __dict__, um dicionario com a lista de todos os atributos desse objeyo\n",
    "ou seja criar atributo pra instancia; mas isso n é recomendado\n",
    "\n",
    "self é autoreferencia ao objeto, como o this em java\n",
    "\n",
    "todos os metodos têm self como parametro\n",
    "\n",
    "self é parametro implicito, eu n preciso passar; python smp define ele como primeiro parametro, e nem pode utilizar no final\n",
    "\n",
    "precisa ser o self. oq caracteriza ser metodo é ter self, se n é método da classe I=(estatiquinziho\"\n",
    "\n",
    "na chamada ele já passa o self, então \n",
    "p1.distOrigem(p1.x, p1.y(+("
   ]
  },
  {
   "cell_type": "code",
   "execution_count": null,
   "id": "981acc40",
   "metadata": {},
   "outputs": [],
   "source": [
    "assert"
   ]
  },
  {
   "cell_type": "code",
   "execution_count": 2,
   "id": "eda7d05c",
   "metadata": {},
   "outputs": [
    {
     "ename": "SyntaxError",
     "evalue": "invalid syntax (3368916427.py, line 1)",
     "output_type": "error",
     "traceback": [
      "\u001b[1;36m  Cell \u001b[1;32mIn[2], line 1\u001b[1;36m\u001b[0m\n\u001b[1;33m    antes de usar metodos preciso instanciar atributos\u001b[0m\n\u001b[1;37m          ^\u001b[0m\n\u001b[1;31mSyntaxError\u001b[0m\u001b[1;31m:\u001b[0m invalid syntax\n"
     ]
    }
   ],
   "source": [
    "antes de usar metodos preciso instanciar atributos\n",
    "\n",
    "em python vc n precisa se preocupar c a ordem das declaraçoes, qm vem primeiro e tal no sentido de um usar o outro\n",
    "\n",
    "boa pratica de programaçao definir e inicializar\n",
    "\n",
    "boa pratica de ibcluir esses brandes comentarios"
   ]
  },
  {
   "cell_type": "markdown",
   "id": "0320436a",
   "metadata": {},
   "source": [
    "atributoss estaticos basta declarar fora de qlqr método, aí vira atributo da classe\n",
    "\n",
    "em python nao usa sobrearamssetar, 7aqui acontece via passagem de parametro \n",
    "\n",
    "encapsulamento em python é pratica de programaçao"
   ]
  },
  {
   "cell_type": "markdown",
   "id": "2986b86d",
   "metadata": {},
   "source": [
    "decorator pra embrulhar antes ou dps da fyncaok"
   ]
  },
  {
   "cell_type": "markdown",
   "id": "f9e225d5",
   "metadata": {},
   "source": [
    "### properties\n",
    "\n",
    "property como se fosse atributo do meu objeto, n preciso usar parenteses\n",
    "\n",
    "vc n precisa definir atributos como fortemente tipados. basta usar o decorator que ja faz isso\n",
    "\n",
    "dunder methods:"
   ]
  },
  {
   "cell_type": "markdown",
   "id": "db3f6552",
   "metadata": {},
   "source": [
    "# HERANÇA\n",
    "\n",
    "em python existem heranças multipla e simples\n",
    "\n",
    "herança simples: super()\n",
    "puxando construtor, pra criar instancia da classe\n",
    "ou com parametro self\n",
    "\n",
    "se tenho um objeto de uma sublcasse, ele é objeto da superclasse tambem\n",
    "\n",
    "herança multipla é igual a c++\n",
    "\n",
    "quando quero me refer\n",
    "\n",
    "n inicia estados\n",
    "\n",
    "ordem q foi definida a jrrrrrrrrrrrrrrrrrrrrr\n",
    "\n",
    "MRO É pra metodos"
   ]
  },
  {
   "cell_type": "markdown",
   "id": "a24afcec",
   "metadata": {},
   "source": [
    "# POLIMORFISMO\n",
    "\n",
    "FUNÇOES EM PYTHON SAO NATURALMENTE POLIMORFICAS, entao n se faz necessario o polimorfismo\n",
    "\n",
    "só precisa que os objetos tenham o mesmo metodo. n precisa estar herdando, basta nome igual e funciona do jeito q quer\n",
    "funciona independente de herdar de classe ancestral ou nao\n",
    "\n",
    "embora n precise mas se puder melhor definir logo os metodos p forçar todos a terem\n",
    "\n",
    "# abstrata\n",
    "\n",
    "classes abstratas n podem ser instanciadas\n",
    "mesma coisa que em c++"
   ]
  },
  {
   "cell_type": "markdown",
   "id": "1d6bf23d",
   "metadata": {},
   "source": [
    "# metodos especiais\n",
    "\n",
    "entao isso é uma forma de sobrecarga de operador\n",
    "\n",
    "- ver ngc de try exception"
   ]
  }
 ],
 "metadata": {
  "kernelspec": {
   "display_name": "Python 3 (ipykernel)",
   "language": "python",
   "name": "python3"
  },
  "language_info": {
   "codemirror_mode": {
    "name": "ipython",
    "version": 3
   },
   "file_extension": ".py",
   "mimetype": "text/x-python",
   "name": "python",
   "nbconvert_exporter": "python",
   "pygments_lexer": "ipython3",
   "version": "3.11.5"
  }
 },
 "nbformat": 4,
 "nbformat_minor": 5
}
