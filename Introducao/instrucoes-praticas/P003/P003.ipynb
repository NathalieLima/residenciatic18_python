{
 "cells": [
  {
   "cell_type": "markdown",
   "id": "f5a553a3",
   "metadata": {},
   "source": [
    "Exercício 2: Pesquisa sobre persistência de dados.\n",
    "● Este exercício já foi implementado no módulo anterior, utilizando C++.\n",
    "Vejamos agora como ficaria uma versão feita em Python: Crie um dicionário\n",
    "para armazenar dados (nome, sobrenome, ano de nascimento, RG, ano de\n",
    "admissão, salário) de empregados de uma empresa. Leia as informaçõies\n",
    "sobre os funcionários de um arquivo e guarde numa lista.\n",
    "Residência em Tecnologia da Informação e Comunicação\n",
    "○ Faça uma função chamada “Reajusta_dez_porcento( )” que receba\n",
    "por parâmetro a lista de empregados e atualize o salário de cada\n",
    "empregado em 10%.\n",
    "○ Crie um aplicativo para testar a função. Pode reproduzir a estrutura\n",
    "utilizada no exercício anterior"
   ]
  },
  {
   "cell_type": "markdown",
   "id": "06694a56",
   "metadata": {},
   "source": [
    "● anterior, utilizando C++. Faça um programa\n",
    "para um supermercado que permita a consulta de preço de produtos. O\n",
    "programa deverá armazenar de cada produto o seu código, seu nome e seu\n",
    "preço.\n",
    "○ Ao utilizar o programa o usuário deve poder:\n",
    "1. Inserir um novo produto\n",
    "2. Excluir um produto cadastrado\n",
    "3. Listar todos os produtos com seus respectivos códigos e preços\n",
    "4. Consultar o preço de um produto através de seu código.\n",
    "\n",
    "O sistema deve listar os produtos na tela, 10 produtos de cada vez em ordem\n",
    "crescente de preço.\n",
    "● O código deve ser implementado numa pasta Supermercado e o programa\n",
    "principal deve ser implementado no arquivo main.py.\n",
    "● Pode utilizar como modelo o arquivo main.py disponível na postagem da\n",
    "atividade. Pesquise sobre esta estrutura e para que ela serve.\n",
    "● Cada uma das funcionalidades do menu de opções deve ser implementada\n",
    "numa função específica.\n",
    "● Já que não temos structs em Python vamos usar dicionários para armazenar\n",
    "cada produto.\n",
    "● Vamos armazenar os produtos numa lista de dicionários;\n",
    "\n",
    "\n",
    "- O código string numérica 13 caracteres (pode\n",
    "conter zeros a esquerda, então não pode ser um número)\n",
    "- O nome pode ter qualquer tamanho e deve começar sempre com uma letra\n",
    "maiúscula.\n",
    "- O preço deve ser apresentado com duas casas decimais"
   ]
  },
  {
   "cell_type": "code",
   "execution_count": 2,
   "id": "b3d7e38e",
   "metadata": {},
   "outputs": [],
   "source": [
    "def insertProduct(product):\n",
    "  pass\n",
    "\n",
    "def deleteProduct():\n",
    "  pass\n",
    "\n",
    "def listProducts():\n",
    "  pass\n",
    "\n",
    "def consultProducts():\n",
    "  pass\n",
    "\n",
    "def isValidCode(code):\n",
    "  return len(code) == 13 and code.isdigit()\n",
    "\n",
    "def isExistingProduct():\n",
    "  pass\n",
    "\n"
   ]
  },
  {
   "cell_type": "code",
   "execution_count": 7,
   "id": "002ae0ac",
   "metadata": {},
   "outputs": [
    {
     "name": "stdout",
     "output_type": "stream",
     "text": [
      "Insira o nome do produto: nath\n",
      "Insira o código do produto: 123123\n",
      "Insira o preço do produto: 12.5345353\n",
      "12.53\n"
     ]
    }
   ],
   "source": [
    "product_name = input(\"Insira o nome do produto: \")\n",
    "product_code = input(\"Insira o código do produto: \") \n",
    "product_price = round(float(input(\"Insira o preço do produto: \")), 2)\n",
    "\n",
    "print(product_price)"
   ]
  }
 ],
 "metadata": {
  "kernelspec": {
   "display_name": "Python 3 (ipykernel)",
   "language": "python",
   "name": "python3"
  },
  "language_info": {
   "codemirror_mode": {
    "name": "ipython",
    "version": 3
   },
   "file_extension": ".py",
   "mimetype": "text/x-python",
   "name": "python",
   "nbconvert_exporter": "python",
   "pygments_lexer": "ipython3",
   "version": "3.11.5"
  }
 },
 "nbformat": 4,
 "nbformat_minor": 5
}
