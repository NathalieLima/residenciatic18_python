{
 "cells": [
  {
   "cell_type": "markdown",
   "id": "5e99c4e6",
   "metadata": {},
   "source": [
    "# PP-P001"
   ]
  },
  {
   "cell_type": "markdown",
   "id": "5e89d6b8",
   "metadata": {},
   "source": [
    "### EXERCÍCIO 2 - MANIPULANDO VARIÁVEIS INTEIRAS\n",
    "\n",
    "Durante a aula foi apresentado o tipo de dado que permite representar um\n",
    "subconjunto dos números inteiros. Sobre estes tipos de dados:\n",
    "- Demonstre como funcionam os operadores aritméticos e aritméticos\n",
    "compostos em Python e destaque as principais novidades e diferenças\n",
    "em relação ao conjunto de operadores com inteiros disponíveis em\n",
    "C/C++ ;\n",
    "- Demonstre a possibilidade de representar números inteiros\n",
    "significativamente grandes calculando o fatorial de 30 e comparando\n",
    "o resultado com o maior valor inteiro que pode ser representado em\n",
    "C/C++;\n",
    "- As variáveis numéricas são imutáveis. Demonstre com exemplos as\n",
    "implicações desta afirmação;\n",
    "- Verifique quais métodos estão disponíveis para as variáveis inteiras"
   ]
  },
  {
   "cell_type": "code",
   "execution_count": null,
   "id": "674e30bd",
   "metadata": {
    "scrolled": true
   },
   "outputs": [],
   "source": [
    "a, b = 5, 3\n",
    "\n",
    "# Operadores aritméticos \n",
    "\n",
    "adicao = a + b\n",
    "subtracao = a - b\n",
    "multiplicacao = a * b\n",
    "divisao = a / b\n",
    "divisao_int = a // b\n",
    "modulo = a % b\n",
    "potencia = a ** b\n",
    "\n",
    "# Demonstração dos resultados\n",
    "\n",
    "print('Adição:', adicao, '|', \\\n",
    "      'Subtração:', subtracao, '|', \\\n",
    "      'Multiplicação:', multiplicacao, '|', \\\n",
    "      'Divisão:', divisao, '|', \\\n",
    "      'Divisão inteira:', divisao_int, '|', \\\n",
    "      'Módulo', modulo, '|', \\\n",
    "      'Potência', potencia\n",
    "     )\n",
    "\n",
    "# Operadores aritméticos compostos\n",
    "\n",
    "adicao += (a + b)\n",
    "subtracao -= (a - b)\n",
    "multiplicacao *= (a * b)\n",
    "divisao /= (a / b)\n",
    "divisao_int //= (a // b)\n",
    "modulo %= (a % b)\n",
    "potencia **= (a + b)\n",
    "\n",
    "# Demonstração dos resultados\n",
    "\n",
    "print('Adição:', adicao, '|', \\\n",
    "      'Subtração:', subtracao, '|', \\\n",
    "      'Multiplicação:', multiplicacao, '|', \\\n",
    "      'Divisão:', divisao, '|', \\\n",
    "      'Divisão inteira:', divisao_int, '|', \\\n",
    "      'Módulo', modulo, '|', \\\n",
    "      'Potência', potencia\n",
    "     )"
   ]
  },
  {
   "cell_type": "markdown",
   "id": "987b6b60",
   "metadata": {},
   "source": [
    "#### Principais novidades e diferenças em relação ao conjunto de operadores com inteiros disponíveis em C/C++ \n",
    "\n",
    "As principais novidades estão nos operadores de divisão inteira e exponenciação, que não existem em C++. Em C++, a divisão inteira era feita automaticamente quando se dividia dois inteiros, também conhecido como divisão truncada. Para chegar ao valor real, era preciso ao menos um dos valores possuir casas decimais, como 10.0. Isso difere de Python, que exibe o resultado na íntegra mesmo que ambos os valores sejam inteiros.\n",
    "\n",
    "Já para exponenciação é necessário importar uma classe que trabalhe com essas operações matemáticas menos básicas, enquanto que em Python isso já é nativo.\n",
    "\n",
    "Além disso, Python se diferencia em C++ por abranger essas operações também em operadores aritméticos compostos, como os de: //=, %= e **=."
   ]
  },
  {
   "cell_type": "code",
   "execution_count": null,
   "id": "a9d4c4a2",
   "metadata": {},
   "outputs": [],
   "source": [
    "int_max_cpp = 2147483647\n",
    "fatorial = 1\n",
    "\n",
    "for i in range(1, 31):\n",
    "    fatorial *= i\n",
    "    \n",
    "print(f'Fatorial de 30: {fatorial}')\n",
    "print(f'Maior valor em C++: {int_max_cpp}')\n",
    "print(f'Diferença entre ambos: {fatorial - int_max_cpp}')"
   ]
  },
  {
   "cell_type": "code",
   "execution_count": null,
   "id": "f6471554",
   "metadata": {},
   "outputs": [],
   "source": [
    "numero = 5\n",
    "\n",
    "# numero[0] = 2 - instrução que dá erro\n",
    "\n",
    "# por ser imutável, a passagem de parâmetro se torna por valor, e não por referência\n",
    "def incrementar(valor):\n",
    "    valor += 1\n",
    "    print(f'Dentro da função: {valor}')\n",
    "\n",
    "incrementar(numero)\n",
    "print(f'Fora da função: {numero}')"
   ]
  },
  {
   "cell_type": "code",
   "execution_count": null,
   "id": "95961e4a",
   "metadata": {},
   "outputs": [],
   "source": [
    "help(int())\n",
    "dir(int())"
   ]
  },
  {
   "cell_type": "markdown",
   "id": "9eea050e",
   "metadata": {},
   "source": [
    "### EXERCÍCIO 3 - MANIPULANDO VARIÁVEIS INTEIRAS\n",
    "\n",
    "Os caracteres numéricos aparecem na tabela ASCII, e em outras, numa\n",
    "sequência que começa pelo caractere ‘0’ até o caractere ‘9’. As strings em\n",
    "Python são formadas por conjuntos de caracteres que podem ser tratadas\n",
    "também como valores numéricos. Com base nestas afirmações desenvolva\n",
    "um programa em Python que:\n",
    "- Imprima na tela, utilizando print, cada um dos caracteres numéricos e\n",
    "seu correspondente código numérico. Pesquise como modificar o\n",
    "comportamento do print para imprimir como caractere e como\n",
    "número.\n",
    "Exemplo:‘0’ - 48\n",
    "‘1’ - 49\n",
    "…\n",
    "‘9’ - 57\n",
    "- Modifique o exercício anterior para que a saída imprima também o\n",
    "código numérico em octal e em hexadecimal.\n",
    "- Acrescente ao código do exercício anterior a possibilidade de ler um\n",
    "caractere qualquer e imprima no mesmo formato do inciso anterior.\n",
    "Pesquise como ler um valor da entrada padrão.\n",
    "- Pesquise como trabalha Python os caracteres especiais, ‘ç’ e ‘ã’\n",
    "por exemplo. Acrescente no código do exercício anterior um exemplo\n",
    "que demonstra como usar este recurso"
   ]
  },
  {
   "cell_type": "code",
   "execution_count": null,
   "id": "f1a0ae70",
   "metadata": {},
   "outputs": [],
   "source": [
    "# Imprimir cada um dos caracteres numéricos e seu correspondente código numérico\n",
    "\n",
    "for i in range(10):\n",
    "    caractere = str(i)\n",
    "    codigo_ascii = ord(caractere)\n",
    "    print(f\"'{caractere}' - {codigo_ascii}\")\n",
    "    \n",
    "# Imprimir também o código numérico em octal e em hexadecimal\n",
    "    \n",
    "for i in range(10):\n",
    "    caractere = str(i)\n",
    "    codigo_ascii = ord(caractere)\n",
    "    codigo_octal = oct(codigo_ascii)\n",
    "    codigo_hexadecimal = hex(codigo_ascii)\n",
    "\n",
    "    print(f\"'{caractere}' - Decimal: {codigo_ascii}, Octal: {codigo_octal}, Hexadecimal: {codigo_hexadecimal}\")\n",
    "\n",
    "# Ler caractere qualquer e imprimir no formato anterior\n",
    "\n",
    "caractere = input(\"Digite um caractere qualquer: \")\n",
    "\n",
    "print(f\"'{caractere}' - Decimal: {codigo_ascii}, Octal: {codigo_octal}, Hexadecimal: {codigo_hexadecimal}\")\n",
    "\n",
    "# Demonstrar como a linguagem trata caracteres especiais\n",
    "\n",
    "caractere_especial1 = 'ç'\n",
    "caractere_especial2 = 'ã'\n",
    "\n",
    "for char in [caractere_especial1, caractere_especial2]:\n",
    "    codigo_ascii = ord(char)\n",
    "    codigo_octal = oct(codigo_ascii)\n",
    "    codigo_hexadecimal = hex(codigo_ascii)\n",
    "    \n",
    "    print(f\"'{char}' - Decimal: {codigo_ascii}, Octal: {codigo_octal}, Hexadecimal: {codigo_hexadecimal}\")"
   ]
  },
  {
   "cell_type": "markdown",
   "id": "86522c04",
   "metadata": {},
   "source": [
    "### EXERCÍCIO 4 - MANIPULANDO VARIÁVEIS INTEIRAS\n",
    "\n",
    "As variáveis de tipo string possuem uma série de funcionalidades já\n",
    "implementadas e seus caracteres e substrings podem ser acessados usando\n",
    "indexação e slicing. Crie um exemplo onde:\n",
    "- Declare uma variável nome atribuindo a ela seu nome completo;\n",
    "- Pesquise por funcionalidades já implementadas nas strings e separe\n",
    "em duas variáveis novas seu nome do seu sobrenome;\n",
    "- Verifique qual das duas novas variáveis antecede a outra na ordem\n",
    "alfabética;\n",
    "- Verifique a quantidade de caracteres de cada uma das novas variáveis;\n",
    "- Verifique se seu nome é uma palíndromo;"
   ]
  },
  {
   "cell_type": "code",
   "execution_count": null,
   "id": "b4119f01",
   "metadata": {},
   "outputs": [],
   "source": [
    "# Meu nome completo\n",
    "my_name = 'Náthalie Lima Bomfim'\n",
    "\n",
    "# Separar nome de sobrenome em variáveis novas\n",
    "firstname = my_name.split(\" \")[0]\n",
    "lastname = \" \".join(my_name.split(\" \")[1:])\n",
    "\n",
    "print(firstname, lastname)\n",
    "\n",
    "# Ver quem antecede quem na ordem alfábetica\n",
    "\n",
    "lista_nomes = [firstname, lastname]\n",
    "lista_nomes.sort()\n",
    "\n",
    "print(lista_nomes[0], 'antecede', lista_nomes[1])\n",
    "\n",
    "# Quantidade de caracteres das variáveis novas\n",
    "\n",
    "print(f'Primeiro nome: {len(firstname)} | Segundo nome: {len(lastname)}')\n",
    "\n",
    "# Verificar se é palíndromo\n",
    "\n",
    "split_name = list(my_name.lower())\n",
    "reverse_name = split_name[::-1]\n",
    "is_palindromo = ('Não', 'Sim')[split_name == reverse_name] # operador condicional\n",
    "\n",
    "print(f'Meu nome é um palíndromo? {is_palindromo}')"
   ]
  },
  {
   "cell_type": "markdown",
   "id": "905de617",
   "metadata": {},
   "source": [
    "## Exercício 5: MANIPULANDO VARIÁVEIS DE PONTO FLUTUANTE\n",
    "\n",
    "● Durante a aula foi apresentado o tipo de dado que permite representar um\n",
    "subconjunto dos números de ponto flutuante. Sobre estes tipos de dados:\n",
    "- Demonstre como funcionam os operadores aritméticos e aritméticos\n",
    "compostos em Python;\n",
    "- Utilizando o operador de exponenciação mostre qual a maior e a\n",
    "menor potência de 2 que pode ser representada com variáveis de\n",
    "ponto flutuante.\n",
    "- As variáveis numéricas são imutáveis. Demonstre com exemplos as\n",
    "implicações desta afirmação;\n",
    "- Verifique quais métodos estão disponíveis para as variáveis de ponto\n",
    "flutuante;\n"
   ]
  },
  {
   "cell_type": "code",
   "execution_count": null,
   "id": "0b901224",
   "metadata": {
    "scrolled": true
   },
   "outputs": [],
   "source": [
    "a, b = 5.4, 3.7\n",
    "\n",
    "# Operadores aritméticos \n",
    "\n",
    "adicao = a + b\n",
    "subtracao = a - b\n",
    "multiplicacao = a * b\n",
    "divisao = a / b\n",
    "divisao_int = a // b\n",
    "modulo = a % b\n",
    "potencia = a ** b\n",
    "\n",
    "# Demonstração dos resultados\n",
    "\n",
    "print('Adição:', adicao, '|', \\\n",
    "      'Subtração:', subtracao, '|', \\\n",
    "      'Multiplicação:', multiplicacao, '|', \\\n",
    "      'Divisão:', divisao, '|', \\\n",
    "      'Divisão inteira:', divisao_int, '|', \\\n",
    "      'Módulo', modulo, '|', \\\n",
    "      'Potência', potencia\n",
    "     )\n",
    "\n",
    "# Operadores aritméticos compostos\n",
    "\n",
    "adicao += (a + b)\n",
    "subtracao -= (a - b)\n",
    "multiplicacao *= (a * b)\n",
    "divisao /= (a / b)\n",
    "divisao_int //= (a // b)\n",
    "modulo %= (a % b)\n",
    "potencia **= (a + b)\n",
    "\n",
    "# Demonstração dos resultados\n",
    "\n",
    "print('Adição:', adicao, '|', \\\n",
    "      'Subtração:', subtracao, '|', \\\n",
    "      'Multiplicação:', multiplicacao, '|', \\\n",
    "      'Divisão:', divisao, '|', \\\n",
    "      'Divisão inteira:', divisao_int, '|', \\\n",
    "      'Módulo', modulo, '|', \\\n",
    "      'Potência', potencia\n",
    "     )"
   ]
  },
  {
   "cell_type": "code",
   "execution_count": null,
   "id": "bbc720ad",
   "metadata": {},
   "outputs": [],
   "source": [
    "import sys\n",
    "\n",
    "maior_potencia_de_2 = sys.float_info.max_exp\n",
    "menor_potencia_de_2 = sys.float_info.min_exp\n",
    "\n",
    "print(\"Maior potência de 2 representável:\", maior_potencia_de_2)\n",
    "print(\"Menor potência de 2 representável:\", menor_potencia_de_2)"
   ]
  },
  {
   "cell_type": "code",
   "execution_count": null,
   "id": "4080c7fd",
   "metadata": {},
   "outputs": [],
   "source": [
    "numero = 8.9\n",
    "\n",
    "# numero[0] = 2.1 - instrução que dá erro\n",
    "\n",
    "# por ser imutável, a passagem de parâmetro se torna por valor, e não por referência\n",
    "def incrementar(valor):\n",
    "    valor += 1.3\n",
    "    print(f'Dentro da função: {valor}')\n",
    "\n",
    "incrementar(numero)\n",
    "print(f'Fora da função: {numero}')"
   ]
  },
  {
   "cell_type": "code",
   "execution_count": null,
   "id": "86655ee9",
   "metadata": {},
   "outputs": [],
   "source": [
    "dir(float())"
   ]
  },
  {
   "cell_type": "markdown",
   "id": "cb99df17",
   "metadata": {},
   "source": [
    "### EXERCÍCIO 6 - MANIPULANDO LISTAS\n",
    "\n",
    "Dado o seguinte código, e antes de implementar, veja o que será impresso em\n",
    "cada caso:\n",
    "\n",
    "● Uma forma simplificada de determinar o seu animal no zodiaco chines é\n",
    "apresentada na seguinte tabela:\n",
    "\n",
    "Descubra qual o signo de um usuário de acordo com seu ano de nascimento"
   ]
  },
  {
   "cell_type": "code",
   "execution_count": null,
   "id": "79a2e0a8",
   "metadata": {},
   "outputs": [],
   "source": [
    "L = [1, 2, 3, 4, 5, 6, 7, 8, 9]\n",
    "print(L[::-1])\n",
    "print(L[-1::])\n",
    "print(L[:-1:])\n",
    "print(L[::-2])\n",
    "print(L[-2::])\n",
    "print(L[:-2:])"
   ]
  },
  {
   "cell_type": "code",
   "execution_count": null,
   "id": "e2efa354",
   "metadata": {},
   "outputs": [],
   "source": [
    "ano_nascimento = int(input(\"Digite o ano do seu nascimento: \"))\n",
    "\n",
    "signo = ano_nascimento % 12\n",
    "\n",
    "signos = [\"Macaco\", \"Galo\", \"Cão\", \"Porco\", \"Rato\", \"Boi\", \n",
    "          \"Tigre\", \"Coelho\", \"Dragão\", \"Serpente\", \"Cavalo\", 'Carneiro']\n",
    "\n",
    "print(\"\\nCom base no seu ano de nascimento, seu signo é:\", signos[signo])"
   ]
  }
 ],
 "metadata": {
  "kernelspec": {
   "display_name": "Python 3 (ipykernel)",
   "language": "python",
   "name": "python3"
  },
  "language_info": {
   "codemirror_mode": {
    "name": "ipython",
    "version": 3
   },
   "file_extension": ".py",
   "mimetype": "text/x-python",
   "name": "python",
   "nbconvert_exporter": "python",
   "pygments_lexer": "ipython3",
   "version": "3.11.5"
  }
 },
 "nbformat": 4,
 "nbformat_minor": 5
}
