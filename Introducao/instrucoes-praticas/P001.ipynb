{
 "cells": [
  {
   "cell_type": "markdown",
   "id": "5e99c4e6",
   "metadata": {},
   "source": [
    "# PP-P001"
   ]
  },
  {
   "cell_type": "markdown",
   "id": "5e89d6b8",
   "metadata": {},
   "source": [
    "### EXERCÍCIO 2 - MANIPULANDO VARIÁVEIS INTEIRAS\n",
    "\n",
    "Durante a aula foi apresentado o tipo de dado que permite representar um\n",
    "subconjunto dos números inteiros. Sobre estes tipos de dados:\n",
    "- Demonstre como funcionam os operadores aritméticos e aritméticos\n",
    "compostos em Python e destaque as principais novidades e diferenças\n",
    "em relação ao conjunto de operadores com inteiros disponíveis em\n",
    "C/C++ ;\n",
    "Residência em Tecnologia da Informação e Comunicação\n",
    "- Demonstre a possibilidade de representar números inteiros\n",
    "significativamente grandes calculando o fatorial de 30 e comparando\n",
    "- resultado com o maior valor inteiro que pode ser representado em\n",
    "C/C++;\n",
    "- As variáveis numéricas são imutáveis. Demonstre com exemplos as\n",
    "implicações desta afirmação;\n",
    "- Verifique quais métodos estão disponíveis para as variáveis inteiras"
   ]
  },
  {
   "cell_type": "markdown",
   "id": "9eea050e",
   "metadata": {},
   "source": [
    "### EXERCÍCIO 3 - MANIPULANDO VARIÁVEIS INTEIRAS\n",
    "\n",
    "Os caracteres numéricos aparecem na tabela ASCII, e em outras, numa\n",
    "sequência que começa pelo caractere ‘0’ até o caractere ‘9’. As strings em\n",
    "Python são formadas por conjuntos de caracteres que podem ser tratadas\n",
    "também como valores numéricos. Com base nestas afirmações desenvolva\n",
    "um programa em Python que:\n",
    "- Imprima na tela, utilizando print, cada um dos caracteres numéricos e\n",
    "seu correspondente código numérico. Pesquise como modificar o\n",
    "comportamento do print para imprimir como caractere e como\n",
    "número.\n",
    "Exemplo:‘0’ - 48\n",
    "‘1’ - 49\n",
    "…\n",
    "‘9’ - 57\n",
    "- Modifique o exercício anterior para que a saída imprima também o\n",
    "código numérico em octal e em hexadecimal.\n",
    "- Acrescente ao código do exercício anterior a possibilidade de ler um\n",
    "caractere qualquer e imprima no mesmo formato do inciso anterior.\n",
    "Pesquise como ler um valor da entrada padrão.\n",
    "- Pesquise como trabalha Python os caracteres especiais, ‘ç’ e ‘ã’\n",
    "por exemplo. Acrescente no código do exercício anterior um exemplo\n",
    "que demonstra como usar este recurso"
   ]
  },
  {
   "cell_type": "code",
   "execution_count": null,
   "id": "a9d4c4a2",
   "metadata": {},
   "outputs": [
    {
     "ename": "",
     "evalue": "",
     "output_type": "error",
     "traceback": [
      "\u001b[1;31mA execução de células com 'c:\\Users\\natha\\AppData\\Local\\Programs\\Python\\Python311\\python.exe' requer o pacote ipykernel.\n",
      "\u001b[1;31mRun the following command to install 'ipykernel' into the Python environment. \n",
      "\u001b[1;31mCommand: 'c:/Users/natha/AppData/Local/Programs/Python/Python311/python.exe -m pip install ipykernel -U --user --force-reinstall'"
     ]
    }
   ],
   "source": [
    "fatorial = 1\n",
    "\n",
    "for i in range(1, 31):\n",
    "    fatorial *= i\n",
    "    \n",
    "print(fatorial)"
   ]
  },
  {
   "cell_type": "markdown",
   "id": "86522c04",
   "metadata": {},
   "source": [
    "### EXERCÍCIO 4 - MANIPULANDO VARIÁVEIS INTEIRAS\n",
    "\n",
    "As variáveis de tipo string possuem uma série de funcionalidades já\n",
    "implementadas e seus caracteres e substrings podem ser acessados usando\n",
    "indexação e slicing. Crie um exemplo onde:\n",
    "- Declare uma variável nome atribuindo a ela seu nome completo;\n",
    "- Pesquise por funcionalidades já implementadas nas strings e separe\n",
    "em duas variáveis novas seu nome do seu sobrenome;\n",
    "- Verifique qual das duas novas variáveis antecede a outra na ordem\n",
    "alfabética;\n",
    "- Verifique a quantidade de caracteres de cada uma das novas variáveis;\n",
    "- Verifique se seu nome é uma palíndromo;"
   ]
  },
  {
   "cell_type": "code",
   "execution_count": 32,
   "id": "b4119f01",
   "metadata": {},
   "outputs": [
    {
     "name": "stdout",
     "output_type": "stream",
     "text": [
      "Náthalie Lima Bomfim\n",
      "Lima Bomfim antecede Náthalie\n",
      "Primeiro nome: 8 | Segundo nome: 11\n",
      "Meu nome é um palíndromo? Não\n"
     ]
    }
   ],
   "source": [
    "# Meu nome completo\n",
    "my_name = 'Náthalie Lima Bomfim'\n",
    "\n",
    "# Separar nome de sobrenome em variáveis novas\n",
    "firstname = my_name.split(\" \")[0]\n",
    "lastname = \" \".join(my_name.split(\" \")[1:])\n",
    "\n",
    "print(firstname, lastname)\n",
    "\n",
    "# Ver quem antecede quem na ordem alfábetica\n",
    "\n",
    "lista_nomes = [firstname, lastname]\n",
    "lista_nomes.sort()\n",
    "\n",
    "print(lista_nomes[0], 'antecede', lista_nomes[1])\n",
    "\n",
    "# Quantidade de caracteres das variáveis novas\n",
    "\n",
    "print(f'Primeiro nome: {len(firstname)} | Segundo nome: {len(lastname)}')\n",
    "\n",
    "# Verificar se é palíndromo\n",
    "\n",
    "split_name = list(my_name.lower())\n",
    "reverse_name = split_name[::-1]\n",
    "is_palindromo = ('Não', 'Sim')[split_name == reverse_name] # operador condicional\n",
    "\n",
    "print(f'Meu nome é um palíndromo? {is_palindromo}')"
   ]
  },
  {
   "cell_type": "markdown",
   "id": "905de617",
   "metadata": {},
   "source": [
    "## Exercício 5: Manipulação de variáveis de ponto flutuante, explorando as características e os limites.\n",
    "● Durante a aula foi apresentado o tipo de dado que permite representar um\n",
    "subconjunto dos números de ponto flutuante. Sobre estes tipos de dados:\n",
    "- Demonstre como funcionam os operadores aritméticos e aritméticos\n",
    "compostos em Python;\n",
    "- Utilizando o operador de exponenciação mostre qual a maior e a\n",
    "menor potência de 2 que pode ser representada com variáveis de\n",
    "ponto flutuante.\n",
    "- As variáveis numéricas são imutáveis. Demonstre com exemplos as\n",
    "implicações desta afirmação;\n",
    "- Verifique quais métodos estão disponíveis para as variáveis de ponto\n",
    "flutuante;\n"
   ]
  },
  {
   "cell_type": "code",
   "execution_count": 61,
   "id": "674e30bd",
   "metadata": {},
   "outputs": [
    {
     "name": "stdout",
     "output_type": "stream",
     "text": [
      "Adição: 8 | Subtração: 2 | Multiplicação: 15 | Divisão: 1.6666666666666667 | Divisão inteira: 1 | Módulo 2 | Potência 125\n",
      "5 3 125 125\n",
      "Adição: 16 | Subtração: 0 | Multiplicação: 225 | Divisão: 1.0 | Divisão inteira: 1 | Módulo 0 | Potência 12994262207056124023163005725852382959736928510469609377823028844746120693193213306533926036765615545495882706215684586734602605273311368718237216551302040465606228478646758742439213161821408291025678475165597240583079921734388495480061465059407055377960205078125\n"
     ]
    }
   ],
   "source": [
    "a, b = 5, 3\n",
    "\n",
    "adicao = a + b\n",
    "subtracao = a - b\n",
    "multiplicacao = a * b\n",
    "divisao = a / b\n",
    "divisao_int = a // b\n",
    "modulo = a % b\n",
    "potencia = a ** b\n",
    "\n",
    "# Operadores aritméticos\n",
    "\n",
    "print('Adição:', adicao, '|', \\\n",
    "      'Subtração:', subtracao, '|', \\\n",
    "      'Multiplicação:', multiplicacao, '|', \\\n",
    "      'Divisão:', divisao, '|', \\\n",
    "      'Divisão inteira:', divisao_int, '|', \\\n",
    "      'Módulo', modulo, '|', \\\n",
    "      'Potência', potencia\n",
    "     )\n",
    "\n",
    "adicao += (a + b)\n",
    "subtracao -= (a - b)\n",
    "multiplicacao *= (a * b)\n",
    "divisao /= (a / b)\n",
    "divisao_int //= (a // b)\n",
    "modulo %= (a % b)\n",
    "print(a, b, potencia, a ** b)\n",
    "potencia **= (a ** b)\n",
    "\n",
    "print('Adição:', adicao, '|', \\\n",
    "      'Subtração:', subtracao, '|', \\\n",
    "      'Multiplicação:', multiplicacao, '|', \\\n",
    "      'Divisão:', divisao, '|', \\\n",
    "      'Divisão inteira:', divisao_int, '|', \\\n",
    "      'Módulo', modulo, '|', \\\n",
    "      'Potência', potencia\n",
    "     )\n",
    "\n",
    "\n",
    "      "
   ]
  },
  {
   "cell_type": "markdown",
   "id": "cb99df17",
   "metadata": {},
   "source": [
    "## EXERCÍCIO 6 - MANIPULANDO LISTAS\n",
    "\n",
    "Dado o seguinte código, e antes de implementar, veja o que será impresso em\n",
    "cada caso:\n",
    "\n",
    "● Uma forma simplificada de determinar o seu animal no zodiaco chines é\n",
    "apresentada na seguinte tabela:\n",
    "\n",
    "Descubra qual o signo de um usuário de acordo com seu ano de nascimento"
   ]
  },
  {
   "cell_type": "code",
   "execution_count": 2,
   "id": "79a2e0a8",
   "metadata": {},
   "outputs": [
    {
     "name": "stdout",
     "output_type": "stream",
     "text": [
      "[9, 8, 7, 6, 5, 4, 3, 2, 1]\n",
      "[9]\n",
      "[1, 2, 3, 4, 5, 6, 7, 8]\n",
      "[9, 7, 5, 3, 1]\n",
      "[8, 9]\n",
      "[1, 2, 3, 4, 5, 6, 7]\n"
     ]
    }
   ],
   "source": [
    "L = [1, 2, 3, 4, 5, 6, 7, 8, 9]\n",
    "print(L[::-1])\n",
    "print(L[-1::])\n",
    "print(L[:-1:])\n",
    "print(L[::-2])\n",
    "print(L[-2::])\n",
    "print(L[:-2:])"
   ]
  },
  {
   "cell_type": "code",
   "execution_count": 7,
   "id": "e2efa354",
   "metadata": {},
   "outputs": [
    {
     "name": "stdout",
     "output_type": "stream",
     "text": [
      "Digite o ano do seu nascimento: 2003\n",
      "\n",
      "Com base no seu ano de nascimento, seu signo é: Carneiro\n"
     ]
    }
   ],
   "source": [
    "ano_nascimento = int(input(\"Digite o ano do seu nascimento: \"))\n",
    "\n",
    "signo = ano_nascimento % 12\n",
    "\n",
    "signos = [\"Macaco\", \"Galo\", \"Cão\", \"Porco\", \"Rato\", \"Boi\", \n",
    "          \"Tigre\", \"Coelho\", \"Dragão\", \"Serpente\", \"Cavalo\", 'Carneiro']\n",
    "\n",
    "print(\"\\nCom base no seu ano de nascimento, seu signo é:\", signos[signo])"
   ]
  }
 ],
 "metadata": {
  "kernelspec": {
   "display_name": "Python 3 (ipykernel)",
   "language": "python",
   "name": "python3"
  },
  "language_info": {
   "codemirror_mode": {
    "name": "ipython",
    "version": 3
   },
   "file_extension": ".py",
   "mimetype": "text/x-python",
   "name": "python",
   "nbconvert_exporter": "python",
   "pygments_lexer": "ipython3",
   "version": "3.11.5"
  }
 },
 "nbformat": 4,
 "nbformat_minor": 5
}
