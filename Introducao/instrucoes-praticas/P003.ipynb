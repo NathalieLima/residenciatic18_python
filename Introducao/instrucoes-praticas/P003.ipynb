{
 "cells": [
  {
   "cell_type": "markdown",
   "id": "00f068da",
   "metadata": {},
   "source": [
    "Exercício 2: Pesquisa sobre persistência de dados.\n",
    "● Este exercício já foi implementado no módulo anterior, utilizando C++.\n",
    "Vejamos agora como ficaria uma versão feita em Python: Crie um dicionário\n",
    "para armazenar dados (nome, sobrenome, ano de nascimento, RG, ano de\n",
    "admissão, salário) de empregados de uma empresa. Leia as informaçõies\n",
    "sobre os funcionários de um arquivo e guarde numa lista.\n",
    "Residência em Tecnologia da Informação e Comunicação\n",
    "○ Faça uma função chamada “Reajusta_dez_porcento( )” que receba\n",
    "por parâmetro a lista de empregados e atualize o salário de cada\n",
    "empregado em 10%.\n",
    "○ Crie um aplicativo para testar a função. Pode reproduzir a estrutura\n",
    "utilizada no exercício anterior"
   ]
  },
  {
   "cell_type": "code",
   "execution_count": null,
   "id": "c6a1a304",
   "metadata": {},
   "outputs": [],
   "source": []
  },
  {
   "cell_type": "markdown",
   "id": "a81bbcef",
   "metadata": {},
   "source": [
    "● anterior, utilizando C++. Faça um programa\n",
    "para um supermercado que permita a consulta de preço de produtos. O\n",
    "programa deverá armazenar de cada produto o seu código, seu nome e seu\n",
    "preço.\n",
    "○ Ao utilizar o programa o usuário deve poder:\n",
    "1. Inserir um novo produto\n",
    "2. Excluir um produto cadastrado\n",
    "3. Listar todos os produtos com seus respectivos códigos e preços\n",
    "4. Consultar o preço de um produto através de seu código.\n",
    "\n",
    "O sistema deve listar os produtos na tela, 10 produtos de cada vez em ordem\n",
    "crescente de preço.\n",
    "● O código deve ser implementado numa pasta Supermercado e o programa\n",
    "principal deve ser implementado no arquivo main.py.\n",
    "● Pode utilizar como modelo o arquivo main.py disponível na postagem da\n",
    "atividade. Pesquise sobre esta estrutura e para que ela serve.\n",
    "● Cada uma das funcionalidades do menu de opções deve ser implementada\n",
    "numa função específica.\n",
    "● Já que não temos structs em Python vamos usar dicionários para armazenar\n",
    "cada produto.\n",
    "● Vamos armazenar os produtos numa lista de dicionários;\n",
    "\n",
    "\n",
    "- O código string numérica 13 caracteres (pode\n",
    "conter zeros a esquerda, então não pode ser um número)\n",
    "- O nome pode ter qualquer tamanho e deve começar sempre com uma letra\n",
    "maiúscula.\n",
    "- O preço deve ser apresentado com duas casas decimais"
   ]
  },
  {
   "cell_type": "code",
   "execution_count": null,
   "id": "43c3c547",
   "metadata": {},
   "outputs": [],
   "source": [
    "produtos: \n",
    "    produto, nome, codigo"
   ]
  },
  {
   "cell_type": "code",
   "execution_count": 13,
   "id": "4284dee6",
   "metadata": {},
   "outputs": [],
   "source": [
    "def montarMenu(options):\n",
    "    for i in range(len(options)):\n",
    "        print(f'{i}. {options[i]}')\n",
    "\n",
    "def insertProduct(product, products_list):\n",
    "   if ( isValidCode(product['code']) ):\n",
    "    products_list.append(product)  \n",
    "    return True\n",
    "   else:\n",
    "    return False\n",
    "\n",
    "\n",
    "  \n",
    "\n",
    "def deleteProduct():\n",
    "  pass\n",
    "\n",
    "def listProducts():\n",
    "  pass\n",
    "\n",
    "def consultProducts():\n",
    "  pass\n",
    "\n",
    "def isValidCode(code):\n",
    "  return len(code) == 13 and code.isdigit()\n",
    "\n",
    "def isExistingProduct(product, products_list):\n",
    "  for i in range(len(products_list)):\n",
    "    if (product in products_list):\n",
    "        return True\n",
    "\n",
    "  return False\n",
    "\n",
    "\n"
   ]
  },
  {
   "cell_type": "code",
   "execution_count": 7,
   "id": "724af337",
   "metadata": {},
   "outputs": [
    {
     "name": "stdout",
     "output_type": "stream",
     "text": [
      "Insira o nome do produto: nath\n",
      "Insira o código do produto: 123123\n",
      "Insira o preço do produto: 12.5345353\n",
      "12.53\n"
     ]
    }
   ],
   "source": [
    "\n",
    "\n",
    "print(product_price)"
   ]
  },
  {
   "cell_type": "code",
   "execution_count": null,
   "id": "ddd895f7",
   "metadata": {},
   "outputs": [],
   "source": [
    "products_list = []\n",
    "product = {'name': product_name,\n",
    "          'code': product_code,\n",
    "          'price': product_price}\n",
    "\n",
    "\n",
    "options = ['Inserir produto',\n",
    "          'Excluir produto',\n",
    "          'Listar produtos']\n",
    "\n",
    "while True:\n",
    "    montarMenu(options)\n",
    "    opcao_usuario = int(input('Sua opção: '))\n",
    "    \n",
    "    match opcao_usuario:\n",
    "        \n",
    "            \n",
    "        case 0:\n",
    "            print('Fim do programa!')\n",
    "            break\n",
    "            \n",
    "        case 1:\n",
    "            print('ola')\n",
    "            \n",
    "        case _:\n",
    "            print('Insira um número entre 0 e', len(options))\n",
    "        "
   ]
  },
  {
   "cell_type": "code",
   "execution_count": null,
   "id": "cd8ede3b",
   "metadata": {},
   "outputs": [],
   "source": [
    "def moduloInserirProduto():\n",
    "    product_name = input(\"Insira o nome do produto: \")\n",
    "    product_code = input(\"Insira o código do produto: \") \n",
    "    product_price = round(float(input(\"Insira o preço do produto: \")), 2)"
   ]
  }
 ],
 "metadata": {
  "kernelspec": {
   "display_name": "Python 3 (ipykernel)",
   "language": "python",
   "name": "python3"
  },
  "language_info": {
   "codemirror_mode": {
    "name": "ipython",
    "version": 3
   },
   "file_extension": ".py",
   "mimetype": "text/x-python",
   "name": "python",
   "nbconvert_exporter": "python",
   "pygments_lexer": "ipython3",
   "version": "3.11.5"
  }
 },
 "nbformat": 4,
 "nbformat_minor": 5
}
