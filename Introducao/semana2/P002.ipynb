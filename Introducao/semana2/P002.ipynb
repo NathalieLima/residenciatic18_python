{
 "cells": [
  {
   "cell_type": "markdown",
   "id": "d58df115",
   "metadata": {},
   "source": [
    "- registrar tarefa\n",
    "\n",
    "#### id, descrição, [x]\n",
    "\n",
    "pedir descriçao\n",
    "registrar id e add [] no final\n"
   ]
  },
  {
   "cell_type": "markdown",
   "id": "08ce62a0",
   "metadata": {},
   "source": [
    "Dominar as características básicas dos tipos de dados avançados: dicionários e conjuntos;\n",
    "\n",
    "Explorar a implementação e o uso de estruturas de controle de fluxo, estruturas condicionais e de repetição, em python."
   ]
  },
  {
   "cell_type": "code",
   "execution_count": 15,
   "id": "3a706dc5",
   "metadata": {},
   "outputs": [
    {
     "ename": "SyntaxError",
     "evalue": "invalid syntax (Temp/ipykernel_25556/2500446838.py, line 13)",
     "output_type": "error",
     "traceback": [
      "\u001b[1;36m  File \u001b[1;32m\"C:\\Users\\natha\\AppData\\Local\\Temp/ipykernel_25556/2500446838.py\"\u001b[1;36m, line \u001b[1;32m13\u001b[0m\n\u001b[1;33m    match user_option:\u001b[0m\n\u001b[1;37m          ^\u001b[0m\n\u001b[1;31mSyntaxError\u001b[0m\u001b[1;31m:\u001b[0m invalid syntax\n"
     ]
    }
   ],
   "source": [
    "tasks_list = []\n",
    "\n",
    "while True:\n",
    "    print(\"\"\"Digite um número de 0 a 4\n",
    "    1. Registrar uma nova tarefa\n",
    "    2. Marcar uma tarefa como realizada\n",
    "    3. Editar uma tarefa\n",
    "    4. Listar as tarefas já registradas\n",
    "    \"\"\")\n",
    "    \n",
    "    user_option = int(input(\"Sua opção: \"))\n",
    "    \n",
    "    match user_option:\n",
    "        case 1:\n",
    "            description = input(\"Informe a descrição da tarefa: \")\n",
    "            \n",
    "            task_id = len(tasks_list) + 1\n",
    "\n",
    "            tasks_list.append({'id': task_id, \n",
    "                                'description': description.capitalize(),\n",
    "                              'check': False})\n",
    "            \n",
    "            print('Tarefa registrada com sucesso!')\n",
    "            print(tasks_list) #apagar\n",
    "            \n",
    "        case 2:\n",
    "            task_id = input(\"Informe o ID da tarefa: \")\n",
    "            \n",
    "        case 3:\n",
    "            \n",
    "        case 4:\n",
    "            for task in tasks_list:\n",
    "                task = task['id'] + \" \" + task['description'] + \" \" + (task['check'] ? '[x]' : '[]')\n",
    "                \n",
    "                print(task, '\\n')\n",
    "            \n",
    "        case 0:\n",
    "            print('Fim do programa!')\n",
    "            break\n",
    "            \n",
    "        case _:\n",
    "            print('Insira um número entre 0 e 4.')\n",
    "\n",
    "\n",
    "\n",
    "\n",
    "\n",
    "\n"
   ]
  },
  {
   "cell_type": "code",
   "execution_count": 1,
   "id": "6155f677",
   "metadata": {},
   "outputs": [
    {
     "name": "stdout",
     "output_type": "stream",
     "text": [
      "3.9.18\n"
     ]
    }
   ],
   "source": [
    "from platform import python_version\n",
    "\n",
    "print(python_version())"
   ]
  }
 ],
 "metadata": {
  "kernelspec": {
   "display_name": "Python 3 (ipykernel)",
   "language": "python",
   "name": "python3"
  },
  "language_info": {
   "codemirror_mode": {
    "name": "ipython",
    "version": 3
   },
   "file_extension": ".py",
   "mimetype": "text/x-python",
   "name": "python",
   "nbconvert_exporter": "python",
   "pygments_lexer": "ipython3",
   "version": "3.9.18"
  }
 },
 "nbformat": 4,
 "nbformat_minor": 5
}
