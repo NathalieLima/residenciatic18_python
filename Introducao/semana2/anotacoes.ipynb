{
 "cells": [
  {
   "cell_type": "code",
   "execution_count": 5,
   "id": "f05bc317",
   "metadata": {},
   "outputs": [
    {
     "name": "stdout",
     "output_type": "stream",
     "text": [
      "nome\n",
      "nomenomenomenomenomenomenomenomenomenome\n"
     ]
    },
    {
     "data": {
      "text/plain": [
       "['__add__',\n",
       " '__class__',\n",
       " '__contains__',\n",
       " '__delattr__',\n",
       " '__dir__',\n",
       " '__doc__',\n",
       " '__eq__',\n",
       " '__format__',\n",
       " '__ge__',\n",
       " '__getattribute__',\n",
       " '__getitem__',\n",
       " '__getnewargs__',\n",
       " '__gt__',\n",
       " '__hash__',\n",
       " '__init__',\n",
       " '__init_subclass__',\n",
       " '__iter__',\n",
       " '__le__',\n",
       " '__len__',\n",
       " '__lt__',\n",
       " '__mod__',\n",
       " '__mul__',\n",
       " '__ne__',\n",
       " '__new__',\n",
       " '__reduce__',\n",
       " '__reduce_ex__',\n",
       " '__repr__',\n",
       " '__rmod__',\n",
       " '__rmul__',\n",
       " '__setattr__',\n",
       " '__sizeof__',\n",
       " '__str__',\n",
       " '__subclasshook__',\n",
       " 'capitalize',\n",
       " 'casefold',\n",
       " 'center',\n",
       " 'count',\n",
       " 'encode',\n",
       " 'endswith',\n",
       " 'expandtabs',\n",
       " 'find',\n",
       " 'format',\n",
       " 'format_map',\n",
       " 'index',\n",
       " 'isalnum',\n",
       " 'isalpha',\n",
       " 'isascii',\n",
       " 'isdecimal',\n",
       " 'isdigit',\n",
       " 'isidentifier',\n",
       " 'islower',\n",
       " 'isnumeric',\n",
       " 'isprintable',\n",
       " 'isspace',\n",
       " 'istitle',\n",
       " 'isupper',\n",
       " 'join',\n",
       " 'ljust',\n",
       " 'lower',\n",
       " 'lstrip',\n",
       " 'maketrans',\n",
       " 'partition',\n",
       " 'removeprefix',\n",
       " 'removesuffix',\n",
       " 'replace',\n",
       " 'rfind',\n",
       " 'rindex',\n",
       " 'rjust',\n",
       " 'rpartition',\n",
       " 'rsplit',\n",
       " 'rstrip',\n",
       " 'split',\n",
       " 'splitlines',\n",
       " 'startswith',\n",
       " 'strip',\n",
       " 'swapcase',\n",
       " 'title',\n",
       " 'translate',\n",
       " 'upper',\n",
       " 'zfill']"
      ]
     },
     "execution_count": 5,
     "metadata": {},
     "output_type": "execute_result"
    }
   ],
   "source": [
    "obj_1 = \"nome\"\n",
    "\n",
    "obj_2 = obj_1\n",
    "\n",
    "obj_1 is obj_2\n",
    "\n",
    "print(obj_2)\n",
    "\n",
    "# geram novas strings, n modifica a string atual\n",
    "\n",
    "print(obj_1 * 10)\n",
    "\n",
    "# > < == podem ser usados com strings, e aí retorna maior que/menor em relaçao à ordem alfabetica\n",
    "\n",
    "dir(obj_1)\n",
    "\n",
    "# sobrecarga de operadores\n",
    "\n"
   ]
  },
  {
   "cell_type": "markdown",
   "id": "fbe4ed1a",
   "metadata": {},
   "source": [
    "funcoes especiais\n",
    "\n",
    "\n",
    "mutavel e ordenavel: a ordem dos elementos importa\n",
    "isso faz dela uma estrutura indexavel\n",
    "\n",
    "posso acrescentar/mudar elementos q ja tao na lista, diferente de string\n",
    "\n",
    "lista n é array, onde todos sao do mesmo tipo\n",
    "uma lista cabe qlqr coisa\n",
    "\n",
    "como é mutavel, posso acrescentar elementos que continua sendo o mesmo objeto, n cria um outro"
   ]
  },
  {
   "cell_type": "code",
   "execution_count": 6,
   "id": "4cfd7cc6",
   "metadata": {},
   "outputs": [
    {
     "name": "stdout",
     "output_type": "stream",
     "text": [
      "[1, 2, 3, 0]\n"
     ]
    },
    {
     "data": {
      "text/plain": [
       "True"
      ]
     },
     "execution_count": 6,
     "metadata": {},
     "output_type": "execute_result"
    }
   ],
   "source": [
    "L1 = [1,2,3]\n",
    "L2 = L1\n",
    "L2 is L1\n",
    "L1.append(0)\n",
    "print(L1)\n",
    "L2 is L1"
   ]
  },
  {
   "cell_type": "code",
   "execution_count": 7,
   "id": "8a1c67d3",
   "metadata": {},
   "outputs": [
    {
     "name": "stdout",
     "output_type": "stream",
     "text": [
      "[1, 'Nome!!!!', 3, 0]\n"
     ]
    },
    {
     "data": {
      "text/plain": [
       "True"
      ]
     },
     "execution_count": 7,
     "metadata": {},
     "output_type": "execute_result"
    }
   ],
   "source": [
    "L2[1] = \"Nome!!!!\"\n",
    "print(L2)\n",
    "L2 is L1"
   ]
  },
  {
   "cell_type": "markdown",
   "id": "d28f82ec",
   "metadata": {},
   "source": [
    "se tiver uma lista de objetos diferentes, \n",
    "\n",
    "precisa que sejam comparáveis entre si (int e int, float e int)\n",
    "\n",
    "se tiver elementos diferentes, precisa ter sobrecarga do operador pra funcionar"
   ]
  },
  {
   "cell_type": "code",
   "execution_count": 10,
   "id": "6ccefbf8",
   "metadata": {},
   "outputs": [
    {
     "name": "stdout",
     "output_type": "stream",
     "text": [
      "[5, 4, 3, 2, 1]\n"
     ]
    }
   ],
   "source": [
    "lista = [1,2,3,4,5]\n",
    "print(lista[-1::-1])"
   ]
  },
  {
   "cell_type": "markdown",
   "id": "f67a3152",
   "metadata": {},
   "source": [
    "diferença é que tupla não pode ser alterada, embora seja indexavel\n",
    "se alterá-la, vai gerar novo objeto"
   ]
  },
  {
   "cell_type": "markdown",
   "id": "3dace414",
   "metadata": {},
   "source": [
    "# DICIONÁRIOS\n",
    "\n",
    "qualquer coisa pode ser utilizada como chave do dicionario\n",
    "\n",
    "meuReg.nome ou meuReg['Nome']\n",
    "\n",
    "pode modificar valores e add chaves, son mutables"
   ]
  },
  {
   "cell_type": "markdown",
   "id": "bfac9904",
   "metadata": {},
   "source": [
    "# CONJUNTOS\n",
    "\n",
    "não são ordenados, é um grupo de elementos, como os conjuntos matematicos. são mutáveis, mas n indexáveis"
   ]
  },
  {
   "cell_type": "markdown",
   "id": "f207216c",
   "metadata": {},
   "source": [
    "no if ]n precisa colocar parentese, mas é boa pratica\n",
    "\n",
    "input smp retorna string\n",
    "\n",
    "n precisa ter break no match case\n",
    "term é qualquer coisa/variavel, ate qlqr objeto q tenha sobrecarga de ==\n",
    "_ é o default\n",
    "case pode ter and e algo de intervalo (ser entre 1 e 10 por ex)\n",
    "-> testar acima\n",
    "\n",
    "# ESTRUTURAS REPETIÇAO\n",
    "\n",
    "- for para intervalos definidos, while para indefinidos\n",
    "\n",
    "no for é baseado em iteradores\n",
    "\n",
    "caractere final do print é sempre nova linha, a não ser que modifique o parâmetro de end7\n",
    "\n",
    "print(end='')\n",
    "\n",
    "iterador é objeto capaz de gerar sequencia de objetos, os elementos da lista\n",
    "toda lista usada em contexto de for se converte em iterador\n",
    "\n",
    "-> comparaçao isso aqui e em c++"
   ]
  },
  {
   "cell_type": "code",
   "execution_count": 13,
   "id": "46d2f4fe",
   "metadata": {},
   "outputs": [
    {
     "data": {
      "text/plain": [
       "1"
      ]
     },
     "execution_count": 13,
     "metadata": {},
     "output_type": "execute_result"
    }
   ],
   "source": [
    "itera = iter(L1)\n",
    "dir(itera)\n",
    "next(itera)\n",
    "\n"
   ]
  },
  {
   "cell_type": "code",
   "execution_count": 18,
   "id": "838d54d7",
   "metadata": {},
   "outputs": [
    {
     "name": "stdout",
     "output_type": "stream",
     "text": [
      "feijaoHashtag Treinament\n",
      "farinhaHashtag Treinament\n",
      "leiteHashtag Treinament\n"
     ]
    }
   ],
   "source": [
    "lista = ['feijao', 'farinha', 'leite']\n",
    "\n",
    "for index, valor in enumerate(lista):\n",
    "    valor = valor + \"Hashtag Treinament\"\n",
    "    print(valor)"
   ]
  },
  {
   "cell_type": "markdown",
   "id": "bcc4bc01",
   "metadata": {},
   "source": [
    "range é funçao que gera iteradores (entao cria objeto), e tem parametros de inicio e fim e passo\n",
    "só gera inteiros\n",
    "class range\n",
    "por default começa em 0 e acaba em -1\n",
    "ex: range(10) acaba no indice 9, porem c 10 elementos\n",
    "\n",
    "iteraodres n sao listas, ele n gera valores, ele vai gerando de um em um. entao se fosse pra gerar um bilhao, range seria mais eficiente, pq ele n vai salvando os valores em uma lista\n",
    "\n",
    "conjuntos tambem gera iterador, mas nao consigo usar range porque n gera indices\n",
    "\n",
    "> dicionario\n",
    "gera iterador a partir das chaves do dicionario, entao se manda for i in dic o i sao as chaves"
   ]
  },
  {
   "cell_type": "code",
   "execution_count": 19,
   "id": "8eaea7a8",
   "metadata": {},
   "outputs": [
    {
     "ename": "SyntaxError",
     "evalue": "invalid syntax (Temp/ipykernel_19320/3887056454.py, line 1)",
     "output_type": "error",
     "traceback": [
      "\u001b[1;36m  File \u001b[1;32m\"C:\\Users\\natha\\AppData\\Local\\Temp/ipykernel_19320/3887056454.py\"\u001b[1;36m, line \u001b[1;32m1\u001b[0m\n\u001b[1;33m    for i in range\u001b[0m\n\u001b[1;37m                  ^\u001b[0m\n\u001b[1;31mSyntaxError\u001b[0m\u001b[1;31m:\u001b[0m invalid syntax\n"
     ]
    }
   ],
   "source": [
    "#for i in range\n",
    "# percorro pelo indice\n",
    "\n",
    "#vai gerando "
   ]
  },
  {
   "cell_type": "code",
   "execution_count": null,
   "id": "86582b0f",
   "metadata": {},
   "outputs": [],
   "source": []
  },
  {
   "cell_type": "code",
   "execution_count": 24,
   "id": "62cdd58c",
   "metadata": {},
   "outputs": [
    {
     "name": "stdout",
     "output_type": "stream",
     "text": [
      "olaNome\n",
      "olasobrenome\n",
      "dict_keys(['Nome', 'sobrenome'])\n"
     ]
    }
   ],
   "source": [
    "dic = {'Nome': 'nath', 'sobrenome': 'haha'}\n",
    "\n",
    "for i in dic:\n",
    "    i = 'ola' + i\n",
    "    print(i)\n",
    "    \n",
    "print(dic.keys())\n",
    "\n",
    "# não é possível alterar porque gera string e strings são imutáveis"
   ]
  },
  {
   "cell_type": "markdown",
   "id": "2766161c",
   "metadata": {},
   "source": [
    "continue vai pra proxima iteraçao\n",
    "\n",
    "pode fechar for e while com else"
   ]
  }
 ],
 "metadata": {
  "kernelspec": {
   "display_name": "Python 3 (ipykernel)",
   "language": "python",
   "name": "python3"
  },
  "language_info": {
   "codemirror_mode": {
    "name": "ipython",
    "version": 3
   },
   "file_extension": ".py",
   "mimetype": "text/x-python",
   "name": "python",
   "nbconvert_exporter": "python",
   "pygments_lexer": "ipython3",
   "version": "3.9.7"
  }
 },
 "nbformat": 4,
 "nbformat_minor": 5
}
