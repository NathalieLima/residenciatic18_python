{
 "cells": [
  {
   "cell_type": "markdown",
   "id": "5777d9a0",
   "metadata": {},
   "source": [
    "linguagem de script\n",
    "\n",
    "definiçao da funçao main é só \n",
    "\n",
    "vc precisa explicitar pra rodar a funçao main"
   ]
  },
  {
   "cell_type": "markdown",
   "id": "d537e40a",
   "metadata": {},
   "source": [
    "duvidas:\n",
    "posso omitir parametro?\n",
    "default\n",
    "/ e * em help(sorted)\n",
    "from meumodulo import testemodulo x import meumodulo x from meumodulo import *"
   ]
  },
  {
   "cell_type": "code",
   "execution_count": null,
   "id": "5d3e3718",
   "metadata": {},
   "outputs": [],
   "source": [
    "if __name__ == '__main__'"
   ]
  },
  {
   "cell_type": "markdown",
   "id": "25250338",
   "metadata": {},
   "source": [
    "em vez de só chamar a funçao main, preciso usar esse codigo acima"
   ]
  },
  {
   "cell_type": "markdown",
   "id": "63d3bef5",
   "metadata": {},
   "source": [
    "criar codigos reutilizaveis e simplificados como filosofia\n",
    "\n",
    "como boas funçoes matematicas. recebe parametro de entrada e retorna valor, mas c extrapolaçao desse conceito, pq pd n receber parametro e/ou n retornar nada\n",
    "\n",
    "print é uma função"
   ]
  },
  {
   "cell_type": "code",
   "execution_count": 1,
   "id": "5e90326a",
   "metadata": {},
   "outputs": [
    {
     "data": {
      "text/plain": [
       "builtin_function_or_method"
      ]
     },
     "execution_count": 1,
     "metadata": {},
     "output_type": "execute_result"
    }
   ],
   "source": [
    "type(print) # função que n retorna"
   ]
  },
  {
   "cell_type": "code",
   "execution_count": 3,
   "id": "92a6c95c",
   "metadata": {},
   "outputs": [
    {
     "name": "stdout",
     "output_type": "stream",
     "text": [
      "None\n",
      "<class 'function'>\n",
      "<class 'NoneType'>\n"
     ]
    }
   ],
   "source": [
    "def minhaFunção():\n",
    "    pass\n",
    "\n",
    "print(minhaFunção())\n",
    "print(type(minhaFunção))\n",
    "print(type(minhaFunção())) #none porque não retorna nada ou seja n tem a palavra de return"
   ]
  },
  {
   "cell_type": "markdown",
   "id": "14529ff3",
   "metadata": {},
   "source": [
    "nesse caso se n colocar pass ele vai pedir, pq dps dos dois pontos exige um bloco sintático\n",
    "\n",
    "é util pra qnd vc quiser criar classe e seus metodos, mas sem colocar suas coisas ainda\n",
    "\n",
    "none, tipo vazio\n",
    "\n",
    "em python n tem um tipo especifico nem de retorno nem de entrada\n",
    "\n",
    "curiosidade: tem até como especificar o tipo mas vms trabalhar com o lado flex"
   ]
  },
  {
   "cell_type": "code",
   "execution_count": 6,
   "id": "a57798f1",
   "metadata": {},
   "outputs": [
    {
     "ename": "TypeError",
     "evalue": "unsupported operand type(s) for +: 'int' and 'str'",
     "output_type": "error",
     "traceback": [
      "\u001b[1;31m---------------------------------------------------------------------------\u001b[0m",
      "\u001b[1;31mTypeError\u001b[0m                                 Traceback (most recent call last)",
      "Cell \u001b[1;32mIn[6], line 5\u001b[0m\n\u001b[0;32m      2\u001b[0m     valor \u001b[38;5;241m=\u001b[39m arg1 \u001b[38;5;241m+\u001b[39m arg2 \u001b[38;5;241m+\u001b[39m \u001b[38;5;124m\"\u001b[39m\u001b[38;5;124m \u001b[39m\u001b[38;5;124m\"\u001b[39m\n\u001b[0;32m      3\u001b[0m     \u001b[38;5;28;01mreturn\u001b[39;00m valor\n\u001b[1;32m----> 5\u001b[0m \u001b[38;5;28mprint\u001b[39m(\u001b[43mfunDoisArgumentos\u001b[49m\u001b[43m(\u001b[49m\u001b[38;5;241;43m2\u001b[39;49m\u001b[43m,\u001b[49m\u001b[38;5;241;43m2\u001b[39;49m\u001b[43m)\u001b[49m)\n",
      "Cell \u001b[1;32mIn[6], line 2\u001b[0m, in \u001b[0;36mfunDoisArgumentos\u001b[1;34m(arg1, arg2)\u001b[0m\n\u001b[0;32m      1\u001b[0m \u001b[38;5;28;01mdef\u001b[39;00m \u001b[38;5;21mfunDoisArgumentos\u001b[39m(arg1, arg2):\n\u001b[1;32m----> 2\u001b[0m     valor \u001b[38;5;241m=\u001b[39m \u001b[43marg1\u001b[49m\u001b[43m \u001b[49m\u001b[38;5;241;43m+\u001b[39;49m\u001b[43m \u001b[49m\u001b[43marg2\u001b[49m\u001b[43m \u001b[49m\u001b[38;5;241;43m+\u001b[39;49m\u001b[43m \u001b[49m\u001b[38;5;124;43m\"\u001b[39;49m\u001b[38;5;124;43m \u001b[39;49m\u001b[38;5;124;43m\"\u001b[39;49m\n\u001b[0;32m      3\u001b[0m     \u001b[38;5;28;01mreturn\u001b[39;00m valor\n",
      "\u001b[1;31mTypeError\u001b[0m: unsupported operand type(s) for +: 'int' and 'str'"
     ]
    }
   ],
   "source": [
    "def funDoisArgumentos(arg1, arg2):\n",
    "    #valor = arg1 + arg2 + \" \"\n",
    "    valor = arg1 + arg2\n",
    "    return valor\n",
    "\n",
    "print(funDoisArgumentos(2,2))"
   ]
  },
  {
   "cell_type": "markdown",
   "id": "dc56adb0",
   "metadata": {},
   "source": [
    "toda instancia da classe int pode usar metodos de complexos\n",
    "\n",
    "r, i, _ = pra qnd tiver varios retornos e vc quiser só alguns, basta usar esse underline, q vai pro lixo; dá pra fzr por slice tb\n",
    "\n",
    "funçoes em python sao essencialmente polimorficas\n",
    "\n",
    "\n",
    "soma é referente pra objeto da classe function, entao posso atribuir: (tal qual variaveis comuns)"
   ]
  },
  {
   "cell_type": "code",
   "execution_count": 7,
   "id": "dbb3863e",
   "metadata": {},
   "outputs": [
    {
     "name": "stdout",
     "output_type": "stream",
     "text": [
      "4\n"
     ]
    }
   ],
   "source": [
    "def soma(a, b):\n",
    "    return a + b\n",
    "\n",
    "adição = soma\n",
    "print(adição(2, 2))"
   ]
  },
  {
   "cell_type": "markdown",
   "id": "100a1bd0",
   "metadata": {},
   "source": [
    "consigo explicitar o escopo de uma variavel\n",
    "nonlocal = funçao que tá logo acima de mim\n",
    "\n",
    "ter cuidado ao trabalhar c variaveis globais dentro de funçoes, pq o uso delas pd envolver sobrecarga de valores \n",
    "soluçao é n usar variavel global, melhor passar por parametro\n",
    "\n",
    "mas se um dia precisar, tem global e nonlocal. se depender de vc use só parametro de funçoes\n",
    "\n",
    "\n",
    "em python maior parte sao imutaveis\n",
    "passagem por valor: n afeta em nada o objeto que tá for\n",
    "\n",
    "como é mutavel, qlqr alteraçao muda meu negocio original. entao acontece essa passagem de parametro por referencia\n",
    "\n",
    "consigo mudar conteudo, mas a referencia à lista é única\n",
    "\n",
    "n preciso respeitar a ordem desde que eu saiba a chave\n",
    "qnd vou usar isso, ou utilizo posicional ou chaves ou primeiro posicional e dps chaves\n",
    "\n",
    "- funçao help"
   ]
  },
  {
   "cell_type": "code",
   "execution_count": null,
   "id": "5f9770bd",
   "metadata": {},
   "outputs": [],
   "source": [
    "funçãoY(4, a = 2, b = 5) # N PODE\n",
    "funçãoY(4, c = 5, b = 0) # PODE"
   ]
  },
  {
   "cell_type": "markdown",
   "id": "727a569a",
   "metadata": {},
   "source": [
    "tenho o valor default, mas se eu qsr forçar q tenha algo só n usar valor padrão\n",
    "ex: imagem. imagem n tem valor padrao, mas coisas como rotaçao, preencher espaço isso sim\n",
    "\n"
   ]
  },
  {
   "cell_type": "code",
   "execution_count": 8,
   "id": "036ff4ee",
   "metadata": {},
   "outputs": [
    {
     "name": "stdout",
     "output_type": "stream",
     "text": [
      "Requirement already satisfied: ipykernel in c:\\users\\natha\\anaconda3\\lib\\site-packages (6.25.0)\n",
      "Collecting ipykernel\n",
      "  Downloading ipykernel-6.27.0-py3-none-any.whl.metadata (6.3 kB)\n",
      "Requirement already satisfied: comm>=0.1.1 in c:\\users\\natha\\anaconda3\\lib\\site-packages (from ipykernel) (0.1.2)\n",
      "Requirement already satisfied: debugpy>=1.6.5 in c:\\users\\natha\\anaconda3\\lib\\site-packages (from ipykernel) (1.6.7)\n",
      "Requirement already satisfied: ipython>=7.23.1 in c:\\users\\natha\\anaconda3\\lib\\site-packages (from ipykernel) (8.15.0)\n",
      "Requirement already satisfied: jupyter-client>=6.1.12 in c:\\users\\natha\\anaconda3\\lib\\site-packages (from ipykernel) (8.6.0)\n",
      "Requirement already satisfied: jupyter-core!=5.0.*,>=4.12 in c:\\users\\natha\\anaconda3\\lib\\site-packages (from ipykernel) (5.5.0)\n",
      "Requirement already satisfied: matplotlib-inline>=0.1 in c:\\users\\natha\\anaconda3\\lib\\site-packages (from ipykernel) (0.1.6)\n",
      "Requirement already satisfied: nest-asyncio in c:\\users\\natha\\anaconda3\\lib\\site-packages (from ipykernel) (1.5.6)\n",
      "Requirement already satisfied: packaging in c:\\users\\natha\\anaconda3\\lib\\site-packages (from ipykernel) (23.1)\n",
      "Requirement already satisfied: psutil in c:\\users\\natha\\anaconda3\\lib\\site-packages (from ipykernel) (5.9.0)\n",
      "Requirement already satisfied: pyzmq>=20 in c:\\users\\natha\\anaconda3\\lib\\site-packages (from ipykernel) (25.1.0)\n",
      "Requirement already satisfied: tornado>=6.1 in c:\\users\\natha\\anaconda3\\lib\\site-packages (from ipykernel) (6.3.3)\n",
      "Requirement already satisfied: traitlets>=5.4.0 in c:\\users\\natha\\anaconda3\\lib\\site-packages (from ipykernel) (5.7.1)\n",
      "Requirement already satisfied: backcall in c:\\users\\natha\\anaconda3\\lib\\site-packages (from ipython>=7.23.1->ipykernel) (0.2.0)\n",
      "Requirement already satisfied: decorator in c:\\users\\natha\\anaconda3\\lib\\site-packages (from ipython>=7.23.1->ipykernel) (5.1.1)\n",
      "Requirement already satisfied: jedi>=0.16 in c:\\users\\natha\\anaconda3\\lib\\site-packages (from ipython>=7.23.1->ipykernel) (0.18.1)\n",
      "Requirement already satisfied: pickleshare in c:\\users\\natha\\anaconda3\\lib\\site-packages (from ipython>=7.23.1->ipykernel) (0.7.5)\n",
      "Requirement already satisfied: prompt-toolkit!=3.0.37,<3.1.0,>=3.0.30 in c:\\users\\natha\\anaconda3\\lib\\site-packages (from ipython>=7.23.1->ipykernel) (3.0.36)\n",
      "Requirement already satisfied: pygments>=2.4.0 in c:\\users\\natha\\anaconda3\\lib\\site-packages (from ipython>=7.23.1->ipykernel) (2.15.1)\n",
      "Requirement already satisfied: stack-data in c:\\users\\natha\\anaconda3\\lib\\site-packages (from ipython>=7.23.1->ipykernel) (0.2.0)\n",
      "Requirement already satisfied: typing-extensions in c:\\users\\natha\\anaconda3\\lib\\site-packages (from ipython>=7.23.1->ipykernel) (4.7.1)\n",
      "Requirement already satisfied: exceptiongroup in c:\\users\\natha\\anaconda3\\lib\\site-packages (from ipython>=7.23.1->ipykernel) (1.0.4)\n",
      "Requirement already satisfied: colorama in c:\\users\\natha\\anaconda3\\lib\\site-packages (from ipython>=7.23.1->ipykernel) (0.4.6)\n",
      "Requirement already satisfied: importlib-metadata>=4.8.3 in c:\\users\\natha\\anaconda3\\lib\\site-packages (from jupyter-client>=6.1.12->ipykernel) (6.0.0)\n",
      "Requirement already satisfied: python-dateutil>=2.8.2 in c:\\users\\natha\\anaconda3\\lib\\site-packages (from jupyter-client>=6.1.12->ipykernel) (2.8.2)\n",
      "Requirement already satisfied: platformdirs>=2.5 in c:\\users\\natha\\anaconda3\\lib\\site-packages (from jupyter-core!=5.0.*,>=4.12->ipykernel) (3.10.0)\n",
      "Requirement already satisfied: pywin32>=300 in c:\\users\\natha\\anaconda3\\lib\\site-packages (from jupyter-core!=5.0.*,>=4.12->ipykernel) (305.1)\n",
      "Requirement already satisfied: zipp>=0.5 in c:\\users\\natha\\anaconda3\\lib\\site-packages (from importlib-metadata>=4.8.3->jupyter-client>=6.1.12->ipykernel) (3.11.0)\n",
      "Requirement already satisfied: parso<0.9.0,>=0.8.0 in c:\\users\\natha\\anaconda3\\lib\\site-packages (from jedi>=0.16->ipython>=7.23.1->ipykernel) (0.8.3)\n",
      "Requirement already satisfied: wcwidth in c:\\users\\natha\\anaconda3\\lib\\site-packages (from prompt-toolkit!=3.0.37,<3.1.0,>=3.0.30->ipython>=7.23.1->ipykernel) (0.2.5)\n",
      "Requirement already satisfied: six>=1.5 in c:\\users\\natha\\anaconda3\\lib\\site-packages (from python-dateutil>=2.8.2->jupyter-client>=6.1.12->ipykernel) (1.16.0)\n",
      "Requirement already satisfied: executing in c:\\users\\natha\\anaconda3\\lib\\site-packages (from stack-data->ipython>=7.23.1->ipykernel) (0.8.3)\n",
      "Requirement already satisfied: asttokens in c:\\users\\natha\\anaconda3\\lib\\site-packages (from stack-data->ipython>=7.23.1->ipykernel) (2.0.5)\n",
      "Requirement already satisfied: pure-eval in c:\\users\\natha\\anaconda3\\lib\\site-packages (from stack-data->ipython>=7.23.1->ipykernel) (0.2.2)\n",
      "Downloading ipykernel-6.27.0-py3-none-any.whl (114 kB)\n",
      "   ---------------------------------------- 0.0/114.6 kB ? eta -:--:--\n",
      "   ---------------------------------------- 0.0/114.6 kB ? eta -:--:--\n",
      "   --- ------------------------------------ 10.2/114.6 kB ? eta -:--:--\n",
      "   ------------- ------------------------- 41.0/114.6 kB 393.8 kB/s eta 0:00:01\n",
      "   -------------------------------------- 114.6/114.6 kB 834.9 kB/s eta 0:00:00\n",
      "Installing collected packages: ipykernel\n",
      "  Attempting uninstall: ipykernel\n",
      "    Found existing installation: ipykernel 6.25.0\n",
      "    Uninstalling ipykernel-6.25.0:\n",
      "      Successfully uninstalled ipykernel-6.25.0\n",
      "Successfully installed ipykernel-6.27.0\n",
      "Note: you may need to restart the kernel to use updated packages.\n"
     ]
    },
    {
     "name": "stderr",
     "output_type": "stream",
     "text": [
      "WARNING: There was an error checking the latest version of pip.\n"
     ]
    }
   ],
   "source": [
    "pip install ipykernel --upgrade "
   ]
  },
  {
   "cell_type": "code",
   "execution_count": 9,
   "id": "689eec6b",
   "metadata": {},
   "outputs": [
    {
     "name": "stdout",
     "output_type": "stream",
     "text": [
      "Requirement already satisfied: pip in c:\\users\\natha\\anaconda3\\lib\\site-packages (23.3)\n",
      "Collecting pip\n",
      "  Downloading pip-23.3.1-py3-none-any.whl.metadata (3.5 kB)\n",
      "Downloading pip-23.3.1-py3-none-any.whl (2.1 MB)\n",
      "   ---------------------------------------- 0.0/2.1 MB ? eta -:--:--\n",
      "   ---------------------------------------- 0.0/2.1 MB ? eta -:--:--\n",
      "   ---------------------------------------- 0.0/2.1 MB ? eta -:--:--\n",
      "   - -------------------------------------- 0.1/2.1 MB 656.4 kB/s eta 0:00:04\n",
      "   --- ------------------------------------ 0.2/2.1 MB 1.3 MB/s eta 0:00:02\n",
      "   ---------- ----------------------------- 0.5/2.1 MB 3.0 MB/s eta 0:00:01\n",
      "   --------------------- ------------------ 1.2/2.1 MB 5.2 MB/s eta 0:00:01\n",
      "   ---------------------------------------  2.1/2.1 MB 7.9 MB/s eta 0:00:01\n",
      "   ---------------------------------------- 2.1/2.1 MB 7.1 MB/s eta 0:00:00\n",
      "Installing collected packages: pip\n",
      "  Attempting uninstall: pip\n",
      "    Found existing installation: pip 23.3\n",
      "    Uninstalling pip-23.3:\n",
      "      Successfully uninstalled pip-23.3\n",
      "Successfully installed pip-23.3.1\n",
      "Note: you may need to restart the kernel to use updated packages.\n"
     ]
    },
    {
     "name": "stderr",
     "output_type": "stream",
     "text": [
      "WARNING: There was an error checking the latest version of pip.\n"
     ]
    }
   ],
   "source": [
    "pip install --upgrade pip"
   ]
  },
  {
   "cell_type": "code",
   "execution_count": 1,
   "id": "b6f3cf3d",
   "metadata": {},
   "outputs": [
    {
     "name": "stdout",
     "output_type": "stream",
     "text": [
      "sys.version_info(major=3, minor=9, micro=18, releaselevel='final', serial=0)\n"
     ]
    }
   ],
   "source": [
    "import sys\n",
    "\n",
    "print(sys.version_info)"
   ]
  },
  {
   "cell_type": "markdown",
   "id": "26f2b771",
   "metadata": {},
   "source": [
    "é possível eu definir \n",
    "posicional tem prioridade sob lista, entao primeiro é o * da lista e dps ** do dicionario"
   ]
  },
  {
   "cell_type": "markdown",
   "id": "f2b395d1",
   "metadata": {},
   "source": [
    "## LAMBDA\n",
    "\n",
    "FUNÇOES SAO OBJETOS, entao pode passar pra outras funçoes ou usar dentro de expressoes. vantagem de dar legibilidade ao código"
   ]
  },
  {
   "cell_type": "code",
   "execution_count": null,
   "id": "71b17a38",
   "metadata": {},
   "outputs": [],
   "source": [
    "sorted(data,k key = lambda x: x['Nome'])\n",
    "sorted(data, key = nome)"
   ]
  },
  {
   "cell_type": "code",
   "execution_count": 2,
   "id": "d5d7ba79",
   "metadata": {},
   "outputs": [
    {
     "data": {
      "text/plain": [
       "[1, 2, 3, 6, 5, 4]"
      ]
     },
     "execution_count": 2,
     "metadata": {},
     "output_type": "execute_result"
    }
   ],
   "source": [
    "list = [1,2,3] + [6,5,4]\n",
    "list"
   ]
  },
  {
   "cell_type": "code",
   "execution_count": null,
   "id": "19e58475",
   "metadata": {},
   "outputs": [],
   "source": []
  },
  {
   "cell_type": "markdown",
   "id": "75af3b75",
   "metadata": {},
   "source": [
    "diferença de c#, ele vai rodando o try até chegar na exceção, dps pula pra ela\n",
    "\n",
    "- qual tipo e qual mensagem de erro\n",
    "\n",
    "se qsr perguntar um erro especifico de aritmetica, aí tenho essas 3 opçoes de floating, overflow e zero\n",
    "\n",
    "dá pra usar BaseException pra pegar erro qnd vc n sabe o tipo exato dele"
   ]
  },
  {
   "cell_type": "code",
   "execution_count": 3,
   "id": "2506877f",
   "metadata": {},
   "outputs": [
    {
     "data": {
      "text/plain": [
       "str"
      ]
     },
     "execution_count": 3,
     "metadata": {},
     "output_type": "execute_result"
    }
   ],
   "source": [
    "type('zero')"
   ]
  },
  {
   "cell_type": "markdown",
   "id": "12e776f0",
   "metadata": {},
   "source": [
    "## ITERADORES\n",
    "\n",
    "n gera infinito, começa de a.gum lugar e vai ate outro\n",
    "gera elementos sob demanda\n",
    "\n",
    "poupa a sua memoria e ao msm tmp consegue gerar uma qtd absura de valores\n",
    "\n",
    "- zip: n precisa usar indice, ja faz isso por vc\n",
    "\n",
    "- asterisco na frente: dizer que é uma lista, converter nisso\n",
    "converter uma lista gerada a apartir de um iterador\n",
    "\n",
    "construir lista/dic/tupla explicitando regra pra construí-la, usando meio q um for"
   ]
  },
  {
   "cell_type": "markdown",
   "id": "2f8b8e27",
   "metadata": {},
   "source": [
    "%timeit = em quanto tempo isso rodou"
   ]
  },
  {
   "cell_type": "code",
   "execution_count": 5,
   "id": "42a1813b",
   "metadata": {},
   "outputs": [
    {
     "name": "stdout",
     "output_type": "stream",
     "text": [
      "74.6 ms ± 505 µs per loop (mean ± std. dev. of 7 runs, 10 loops each)\n",
      "92.8 ms ± 720 µs per loop (mean ± std. dev. of 7 runs, 10 loops each)\n"
     ]
    }
   ],
   "source": [
    "%timeit [i for i in range(1000000) if i % 2 == 0]\n",
    "\n",
    "def pares(N):\n",
    "    pares = []\n",
    "    for i in range(N):\n",
    "        if i % 2 == 0:\n",
    "            pares.append(i)\n",
    "            \n",
    "%timeit pares(1000000)"
   ]
  },
  {
   "cell_type": "markdown",
   "id": "dac9f611",
   "metadata": {},
   "source": [
    "a cada codigo executado é atribuido um nome e ele pode ser acessado atraves dessa variavel __name__\n",
    "\n",
    "-> trabalhar com arquivos/modulos\n",
    "from meuModulo import testeModulo"
   ]
  }
 ],
 "metadata": {
  "kernelspec": {
   "display_name": "Python 3 (ipykernel)",
   "language": "python",
   "name": "python3"
  },
  "language_info": {
   "codemirror_mode": {
    "name": "ipython",
    "version": 3
   },
   "file_extension": ".py",
   "mimetype": "text/x-python",
   "name": "python",
   "nbconvert_exporter": "python",
   "pygments_lexer": "ipython3",
   "version": "3.9.18"
  }
 },
 "nbformat": 4,
 "nbformat_minor": 5
}
