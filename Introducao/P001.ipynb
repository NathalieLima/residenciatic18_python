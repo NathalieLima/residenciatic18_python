{
 "cells": [
  {
   "cell_type": "markdown",
   "id": "5e99c4e6",
   "metadata": {},
   "source": [
    "# PP-P001"
   ]
  },
  {
   "cell_type": "markdown",
   "id": "5e89d6b8",
   "metadata": {},
   "source": [
    "### EXERCÍCIO 2 - MANIPULANDO VARIÁVEIS INTEIRAS"
   ]
  },
  {
   "cell_type": "code",
   "execution_count": null,
   "id": "62cc96d8",
   "metadata": {},
   "outputs": [],
   "source": []
  },
  {
   "cell_type": "code",
   "execution_count": null,
   "id": "a9d4c4a2",
   "metadata": {},
   "outputs": [],
   "source": []
  },
  {
   "cell_type": "code",
   "execution_count": 39,
   "id": "b4119f01",
   "metadata": {},
   "outputs": [
    {
     "name": "stdout",
     "output_type": "stream",
     "text": [
      "Náthalie Lima Bomfim\n",
      "['Lima Bomfim', 'Náthalie']\n",
      "False\n",
      "['a', 'n', 'a'] ['a', 'n', 'a']\n",
      "True\n",
      "8 11\n"
     ]
    }
   ],
   "source": [
    "name = 'Náthalie Lima Bomfim'\n",
    "other_name = 'Ana'\n",
    "\n",
    "firstname = name.split(\" \")[0]\n",
    "lastname = \" \".join(name.split(\" \")[1:])\n",
    "\n",
    "print(firstname, lastname)\n",
    "\n",
    "nath = [firstname, lastname]\n",
    "nath.sort()\n",
    "print(nath)\n",
    "\n",
    "nome_splited = nome.split()\n",
    "reversed_name = nome_splited.reverse()\n",
    "\n",
    "print(nome_splited == reversed_name)\n",
    "\n",
    "nome_splited = list(other_name.lower())\n",
    "reversed_name = nome_splited[::-1]\n",
    "\n",
    "\n",
    "print(nome_splited, reversed_name)\n",
    "print(nome_splited == reversed_name)\n",
    "\n",
    "print(len(firstname), len(lastname))"
   ]
  },
  {
   "cell_type": "markdown",
   "id": "cb99df17",
   "metadata": {},
   "source": [
    "### EXERCÍCIO 6 - MANIPULANDO LISTAS"
   ]
  },
  {
   "cell_type": "code",
   "execution_count": 6,
   "id": "79a2e0a8",
   "metadata": {},
   "outputs": [
    {
     "name": "stdout",
     "output_type": "stream",
     "text": [
      "[9, 8, 7, 6, 5, 4, 3, 2, 1]\n",
      "[9]\n",
      "[1, 2, 3, 4, 5, 6, 7, 8]\n",
      "[9, 7, 5, 3, 1]\n",
      "[8, 9]\n",
      "[1, 2, 3, 4, 5, 6, 7]\n"
     ]
    }
   ],
   "source": [
    "L = [1, 2, 3, 4, 5, 6, 7, 8, 9]\n",
    "print(L[::-1])\n",
    "print(L[-1::])\n",
    "print(L[:-1:])\n",
    "print(L[::-2])\n",
    "print(L[-2::])\n",
    "print(L[:-2:])"
   ]
  },
  {
   "cell_type": "code",
   "execution_count": 5,
   "id": "e2efa354",
   "metadata": {},
   "outputs": [
    {
     "name": "stdout",
     "output_type": "stream",
     "text": [
      "Digite o ano do seu nascimento: 2003\n",
      "\n",
      "Com base no seu ano de nascimento, seu signo é: Carneiro\n"
     ]
    }
   ],
   "source": [
    "ano_nascimento = int(input(\"Digite o ano do seu nascimento: \"))\n",
    "\n",
    "signo = ano_nascimento % 12\n",
    "\n",
    "signos = [\"Macaco\", \"Galo\", \"Cão\", \"Porco\", \"Rato\", \"Boi\", \n",
    "          \"Tigre\", \"Coelho\", \"Dragão\", \"Serpente\", \"Cavalo\", 'Carneiro']\n",
    "\n",
    "print(\"\\nCom base no seu ano de nascimento, seu signo é:\", signos[signo])"
   ]
  }
 ],
 "metadata": {
  "kernelspec": {
   "display_name": "Python 3 (ipykernel)",
   "language": "python",
   "name": "python3"
  },
  "language_info": {
   "codemirror_mode": {
    "name": "ipython",
    "version": 3
   },
   "file_extension": ".py",
   "mimetype": "text/x-python",
   "name": "python",
   "nbconvert_exporter": "python",
   "pygments_lexer": "ipython3",
   "version": "3.9.7"
  }
 },
 "nbformat": 4,
 "nbformat_minor": 5
}
